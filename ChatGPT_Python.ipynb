{
  "nbformat": 4,
  "nbformat_minor": 0,
  "metadata": {
    "colab": {
      "provenance": []
    },
    "kernelspec": {
      "name": "python3",
      "display_name": "Python 3"
    },
    "language_info": {
      "name": "python"
    }
  },
  "cells": [
    {
      "cell_type": "code",
      "source": [
        "pip install openai\n",
       
      ],
      "metadata": {
        "id": "Eh0a8kKPxZCM"
      },
      "execution_count": null,
      "outputs": []
    },
    {
      "cell_type": "code",
      "source": [
        "import openai\n",
        "\n",
        "API_KEY = '$$$$$$$$$$$$$$$$$$'\n",
        "openai.api_key = API_KEY"
      ],
      "metadata": {
        "id": "gwydcEcIBHaP"
      },
      "execution_count": 24,
      "outputs": []
    },
    {
      "cell_type": "code",
      "source": [
        "\n",
        "response = openai.Completion.create(\n",
        "    engine=\"text-davinci-003\",\n",
        "    prompt='how big is moon ?',\n",
        "    max_tokens=100,\n",
        "    #n=1,\n",
        "    #stop=None,\n",
        "    #temperature=0.5\n",
        ")\n",
        "\n",
        "message = response.choices[0].text\n",
        "print(message)"
      ],
      "metadata": {
        "colab": {
          "base_uri": "https://localhost:8080/"
        },
        "id": "gtoiLVXkBVjL",
        "outputId": "409c720f-d3d6-4d9b-fa4c-b0296ec7f5c8"
      },
      "execution_count": 30,
      "outputs": [
        {
          "output_type": "stream",
          "name": "stdout",
          "text": [
            "\n",
            "\n",
            "The moon has a diameter of about 2,159 miles (3,476 kilometers).\n"
          ]
        }
      ]
    },
    {
      "cell_type": "code",
      "source": [
        "import time\n",
        "start=time.time()\n",
        "response = openai.Completion.create(\n",
        "    engine=\"text-davinci-003\",\n",
        "    prompt='how big is moon ?',\n",
        "    max_tokens=100,\n",
        "    #n=1,\n",
        "    #stop=None,\n",
        "    #temperature=0.5\n",
        ")\n",
        "\n",
        "message = response.choices[0].text\n",
        "print(message)\n",
        "end=time.time()\n",
        "print(end-start)"
      ],
      "metadata": {
        "colab": {
          "base_uri": "https://localhost:8080/"
        },
        "id": "QP31uhCfamsx",
        "outputId": "ca60ae06-2155-4461-b2f4-fd7ba2fb69f1"
      },
      "execution_count": 33,
      "outputs": [
        {
          "output_type": "stream",
          "name": "stdout",
          "text": [
            "\n",
            "\n",
            "The average diameter of the moon is 3,476 kilometers (2,159 miles).\n",
            "1.8475518226623535\n"
          ]
        }
      ]
    },
    {
      "cell_type": "code",
      "source": [
        "start = time.perf_counter()\n",
        "response = openai.Completion.create(\n",
        "    engine=\"text-davinci-003\",\n",
        "    prompt='top 20 companies in world in semiconductor industry',\n",
        "    max_tokens=100,\n",
        "    #n=1,\n",
        "    #stop=None,\n",
        "    #temperature=0.5\n",
        ")\n",
        "\n",
        "message = response.choices[0].text\n",
        "print(message)\n",
        "request_time = time.perf_counter() - start\n",
        "print(\"Request completed in {0:.0f}ms\".format(request_time))"
      ],
      "metadata": {
        "colab": {
          "base_uri": "https://localhost:8080/"
        },
        "id": "GW_iBk0Jc-5Q",
        "outputId": "3c8e6251-ddab-4161-b91c-74e1a87c1135"
      },
      "execution_count": 40,
      "outputs": [
        {
          "output_type": "stream",
          "name": "stdout",
          "text": [
            "\n",
            "\n",
            "1. Intel Corporation\n",
            "2. Samsung Electronics\n",
            "3. Taiwan Semiconductor Manufacturing Company Ltd\n",
            "4. Qualcomm Inc.\n",
            "5. Broadcom Inc.\n",
            "6. NVIDIA Corporation\n",
            "7. Texas Instruments Incorporated\n",
            "8. SK Hynix Inc.\n",
            "9. Micron Technology Inc.\n",
            "10. AMD\n",
            "11. Infineon Technologies AG\n",
            "12. STMicroelectronics N.V.\n",
            "13. UMC (United Microelectronics Corporation)\n",
            "14\n",
            "Request completed in 5ms\n"
          ]
        }
      ]
    }
  ]
}
